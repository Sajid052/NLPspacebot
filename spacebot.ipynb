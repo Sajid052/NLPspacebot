{
 "cells": [
  {
   "cell_type": "code",
   "execution_count": null,
   "id": "0f3b627f",
   "metadata": {},
   "outputs": [],
   "source": [
    "import random\n",
    "\n",
    "# Define responses for the space-themed chatbot\n",
    "responses = {\n",
    "    \"What is a black hole?\": \"A black hole is a region in space where the gravitational pull is so strong that nothing, not even light, can escape from it.\",\n",
    "    \"Tell me about the planets in our solar system.\": \"Our solar system has eight planets, including Mercury, Venus, Earth, Mars, Jupiter, Saturn, Uranus, and Neptune.\",\n",
    "    \"What is a galaxy?\": \"A galaxy is a vast collection of stars, gas, dust, and dark matter bound together by gravity. Our Milky Way is a galaxy.\",\n",
    "    \"What are asteroids?\": \"Asteroids are small rocky objects that orbit the Sun. They are often found in the asteroid belt between Mars and Jupiter.\",\n",
    "    \"What's the difference between a comet and an asteroid?\": \"Comets are icy bodies that develop tails when they approach the Sun, while asteroids are rocky and do not have tails.\",\n",
    "    \"Can you recommend a good space book?\": \"Sure! I recommend 'Cosmos' by Carl Sagan for a fascinating journey through the cosmos.\",\n",
    "    \"Who was the first person to walk on the Moon?\": \"Neil Armstrong, an astronaut from NASA, was the first person to walk on the Moon in 1969 during the Apollo 11 mission.\",\n",
    "    \"I have a question about space travel.\": \"Feel free to ask your space travel question, and I'll do my best to answer it.\",\n",
    "    \"When india starts a satelite project for moon? \": India was started a satelite project for moon in 2019.\n",
    "    \"When india became a success to launch a satelite for moon?\": On August 2023.\n",
    "    \"What is the name of indian satelite project for moon?\": Indian satelite project name is CHANDARYAN-3.\n",
    "    \n",
    "    \"Exit\": \"Thank you for chatting with the space bot. Have a great day!\"\n",
    "}\n",
    "\n",
    "# Function to handle user input and provide responses\n",
    "def space_chat():\n",
    "    print(\"Hello! I'm your space-themed chatbot. Ask me questions about space.\")\n",
    "    print(\"You can type 'Exit' to end the conversation.\")\n",
    "    \n",
    "    while True:\n",
    "        user_input = input(\"You: \").strip().capitalize()\n",
    "\n",
    "        if user_input in responses:\n",
    "            print(\"Space Bot:\", responses[user_input])\n",
    "        else:\n",
    "            print(\"Space Bot: I'm sorry, I don't know the answer to that question. Ask me something else or type 'Exit' to end the conversation.\")\n",
    "\n",
    "        if user_input == 'Exit':\n",
    "            print(\"Space Bot: Goodbye!\")\n",
    "            break\n",
    "\n",
    "# Start the space-themed chatbot\n",
    "space_chat()\n"
   ]
  },
  {
   "cell_type": "code",
   "execution_count": null,
   "id": "4932f63f",
   "metadata": {},
   "outputs": [],
   "source": []
  }
 ],
 "metadata": {
  "kernelspec": {
   "display_name": "Python 3 (ipykernel)",
   "language": "python",
   "name": "python3"
  }
 },
 "nbformat": 4,
 "nbformat_minor": 5
}
